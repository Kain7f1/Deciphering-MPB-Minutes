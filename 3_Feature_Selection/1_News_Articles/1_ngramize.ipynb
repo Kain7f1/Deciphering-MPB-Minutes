{
 "cells": [
  {
   "cell_type": "markdown",
   "id": "faecfbb1-c07a-4917-b1dd-7f6ecb54836f",
   "metadata": {},
   "source": [
    "# 1. N-gramize \n",
    "- n그램화"
   ]
  },
  {
   "cell_type": "markdown",
   "id": "481ef890-98ab-4627-bff4-ee19f1882f2c",
   "metadata": {},
   "source": [
    "## 1-a. n-gramize 계획"
   ]
  },
  {
   "cell_type": "code",
   "execution_count": null,
   "id": "41ab17a6-d283-475f-9d4a-e85e6b43fbb6",
   "metadata": {},
   "outputs": [],
   "source": []
  },
  {
   "cell_type": "code",
   "execution_count": null,
   "id": "7405d827-7abe-45ec-a42f-0ce1204daa9d",
   "metadata": {},
   "outputs": [],
   "source": []
  },
  {
   "cell_type": "code",
   "execution_count": null,
   "id": "cd1903db-5dde-46e5-9880-e092b6ec9119",
   "metadata": {},
   "outputs": [],
   "source": []
  },
  {
   "cell_type": "markdown",
   "id": "251632d9-b6e4-429a-a304-f7e033cf2352",
   "metadata": {},
   "source": [
    "### -c-2. 테스트 : 1~5 gram으로 만드는 함수"
   ]
  },
  {
   "cell_type": "code",
   "execution_count": null,
   "id": "05facd31-9bbc-402b-be39-3178f22659ab",
   "metadata": {},
   "outputs": [],
   "source": [
    "def generate_ngrams(tokens, max_n=5):\n",
    "    \"\"\" 주어진 튜플 리스트로부터 1-gram부터 max_n-gram까지의 리스트를 생성한다. \"\"\"\n",
    "    ngrams_list = []\n",
    "    for n in range(1, max_n + 1):\n",
    "        ngrams = [' '.join([token[0] for token in tokens[i:i + n]]) for i in range(len(tokens) - n + 1)]\n",
    "        ngrams_list.extend(ngrams)\n",
    "    return ngrams_list\n",
    "\n",
    "\n",
    "ngrams = generate_ngrams(tokens_temp)\n",
    "print(ngrams)"
   ]
  },
  {
   "cell_type": "markdown",
   "id": "465090e9-562e-49cf-b0a5-1d964bb1dc94",
   "metadata": {},
   "source": [
    "### 4-c-3. 테스트 : 테스트용 df에 적용해보기"
   ]
  },
  {
   "cell_type": "markdown",
   "id": "9510f1ed-98a9-4981-8545-ccf4148d7c24",
   "metadata": {},
   "source": [
    "#### 1. 테스트 df 만들기"
   ]
  },
  {
   "cell_type": "code",
   "execution_count": null,
   "id": "20638798-32e7-4405-bb87-62c6c11dd443",
   "metadata": {},
   "outputs": [],
   "source": [
    "df_test = df.head(2).copy()\n",
    "df_test"
   ]
  },
  {
   "cell_type": "code",
   "execution_count": null,
   "id": "c79ef4a4-a481-4994-ae77-6e0fd9b0e28d",
   "metadata": {},
   "outputs": [],
   "source": [
    "test_txt = df_test.iloc(0)[0][\"text\"]\n",
    "test_txt"
   ]
  },
  {
   "cell_type": "markdown",
   "id": "ed6b0157-ae55-459d-81eb-66c81c3b93ed",
   "metadata": {},
   "source": [
    "#### 2. 테스트 df에 테스트"
   ]
  },
  {
   "cell_type": "code",
   "execution_count": null,
   "id": "563991bd-3d71-4e46-9eed-5202aaa036fe",
   "metadata": {},
   "outputs": [],
   "source": [
    "from ekonlpy import Mecab\n",
    "\n",
    "# Mecab 객체 선언\n",
    "mecab = Mecab(use_original_tagger=True) # set use_original_tagger=True\n",
    "\n",
    "# generate_ngrams 함수를 적용하는 함수\n",
    "def apply_ngrams(row):\n",
    "    tokens = mecab.pos(row['text'])\n",
    "    return generate_ngrams(tokens)\n",
    "\n",
    "# df에 적용\n",
    "df_test['ngrams'] = df_test.apply(apply_ngrams, axis=1)\n",
    "df_test"
   ]
  },
  {
   "cell_type": "markdown",
   "id": "987ef98d-4124-4259-89a3-38608b8a7576",
   "metadata": {},
   "source": [
    "#### 4. 성공 : df에 대한 테스트가 성공적으로 진행되었다."
   ]
  },
  {
   "cell_type": "code",
   "execution_count": null,
   "id": "a1ee6bbe-01e1-419f-b63f-85825f543a40",
   "metadata": {},
   "outputs": [],
   "source": [
    "test_ngrams = df_test.iloc(0)[0][\"ngrams\"]\n",
    "test_ngrams"
   ]
  },
  {
   "cell_type": "markdown",
   "id": "21ef04a8-40fd-4f6c-98dd-3f13b44b36eb",
   "metadata": {},
   "source": [
    "## -d. 토큰화 적용\n",
    "- 실제 데이터에 적용한다"
   ]
  },
  {
   "cell_type": "markdown",
   "id": "4a4bd089-0113-401c-b600-b8e83d74d263",
   "metadata": {},
   "source": [
    "### 4-d-1. df 확인"
   ]
  },
  {
   "cell_type": "code",
   "execution_count": null,
   "id": "a594ede2-a3ca-44e1-8a60-cc2998cf4704",
   "metadata": {},
   "outputs": [],
   "source": [
    "df.info()"
   ]
  },
  {
   "cell_type": "code",
   "execution_count": null,
   "id": "fdbde063-a562-48c6-8e76-344213e25db7",
   "metadata": {},
   "outputs": [],
   "source": [
    "df.head(2)"
   ]
  },
  {
   "cell_type": "markdown",
   "id": "209207e0-8fcb-4abc-b3d4-52ffacee4122",
   "metadata": {},
   "source": [
    "### 4-d-2. df에 적용"
   ]
  },
  {
   "cell_type": "code",
   "execution_count": null,
   "id": "ae00c1c1-6338-4a03-8837-6cee3bf1536f",
   "metadata": {},
   "outputs": [],
   "source": [
    "from ekonlpy import Mecab\n",
    "\n",
    "# df에 적용\n",
    "df['ngrams'] = df.apply(apply_ngrams, axis=1)\n",
    "df.head(3)"
   ]
  },
  {
   "cell_type": "code",
   "execution_count": null,
   "id": "0753e5a3-6dec-4ade-aeba-f6faa71b110e",
   "metadata": {},
   "outputs": [],
   "source": []
  },
  {
   "cell_type": "markdown",
   "id": "5e90354b-1426-4546-80ac-b5b194140b38",
   "metadata": {},
   "source": [
    "## 4-e. ngramize 함수화"
   ]
  },
  {
   "cell_type": "markdown",
   "id": "3b5c5b0a-c961-4d4e-b0f3-365534073fb5",
   "metadata": {},
   "source": [
    "### 4-e-1. 함수 만들기\n",
    "- 논문에서는 n-gram을 5로 했지만, 차원의 저주 때문에 3으로 변경한다\n",
    "- 용량이 너무 커서 작동되지 않기 때문이다.\n",
    "- 그리고 4, 5-gram은 무의미한 경우가 많다."
   ]
  },
  {
   "cell_type": "code",
   "execution_count": null,
   "id": "cb6f4b6c-ccc3-43c4-adcf-ed03f3f8c0e0",
   "metadata": {},
   "outputs": [],
   "source": [
    "import pandas as pd\n",
    "from ekonlpy import Mecab\n",
    "\n",
    "# 시간 측정 데코레이터\n",
    "import time\n",
    "\n",
    "def time_decorator(func):\n",
    "    def wrapper(*args, **kwargs):\n",
    "        start_time = time.time()\n",
    "        result = func(*args, **kwargs)\n",
    "        end_time = time.time()\n",
    "        print(f\"Function '{func.__name__}' executed in {end_time - start_time} seconds.\")\n",
    "        return result\n",
    "    return wrapper\n",
    "\n",
    "# 함수 : 토큰화 + 파일로 저장\n",
    "@time_decorator\n",
    "def tokenize_and_ngramize(fpath_to_read, text_column_name, fpath_to_save):\n",
    "    \n",
    "    # 1. 데이터 읽어오기\n",
    "    print(\"[progress 1/5] 데이터 읽어오기\")\n",
    "    df = pd.read_csv(fpath_to_read, encoding=\"utf-8\")\n",
    "    \n",
    "    \n",
    "    # 2. n-gram 생성 함수 정의 : 주어진 튜플 리스트로부터 1-gram부터 max_n-gram까지의 리스트를 생성한다.\n",
    "    print(\"[progress 2/5] 함수 정의 : n-gram 생성 함수\")\n",
    "    def generate_ngrams(tokens, max_n=3):\n",
    "        ngrams_list = []\n",
    "        for n in range(1, max_n + 1):\n",
    "            ngrams = [' '.join([token[0] for token in tokens[i:i + n]]) for i in range(len(tokens) - n + 1)]\n",
    "            ngrams_list.extend(ngrams)\n",
    "        return ngrams_list\n",
    "\n",
    "    \n",
    "    # 3. 토큰화 및 n-gram 적용 함수 정의  \n",
    "    print(\"[progress 3/5] 함수 정의 : 토큰화 및 n-gram 적용 함수\")\n",
    "    # mecab.pos() 는 text를 입력받아 튜플로 토큰화해주는 ekonlpy 지원 함수이다\n",
    "    \n",
    "    # Mecab 객체 선언\n",
    "    mecab = Mecab(use_original_tagger=True) # set use_original_tagger=True\n",
    "    \n",
    "    def apply_ngrams(row):\n",
    "        tokens = mecab.pos(row[text_column_name])\n",
    "        return generate_ngrams(tokens)    \n",
    "\n",
    "\n",
    "    # 4. 데이터에 적용 : 토큰화 및 n-gram화\n",
    "    print(\"[progress 4/5] 데이터에 적용 : 토큰화 및 n-gram화\")\n",
    "    df['ngrams'] = df.apply(apply_ngrams, axis=1)\n",
    "    \n",
    "\n",
    "    # 5. 파일로 저장 : 토큰화 및 n-gram 적용된 데이터\n",
    "    print(\"[progress 5/5] 파일로 저장 : 토큰화 및 n-gram 적용된 데이터\")\n",
    "    df_new = df.drop([text_column_name], axis=1)  # 불필요한 칼럼 제거\n",
    "    df_new.to_csv(fpath_to_save, encoding='utf-8', index=False)  # csv 파일로 저장 \n",
    "\n",
    "    print(\"[done]\")"
   ]
  },
  {
   "cell_type": "markdown",
   "id": "27f7e442-9fc5-4b40-928d-c1551eb3eb66",
   "metadata": {},
   "source": [
    "### 4-e-2. 테스트용 파일로 실험하기"
   ]
  },
  {
   "cell_type": "markdown",
   "id": "4f231529-3ab5-469d-8841-f6d2699f219c",
   "metadata": {},
   "source": [
    "#### 1. 테스트 .csv 파일 만들기"
   ]
  },
  {
   "cell_type": "code",
   "execution_count": null,
   "id": "0445b206-0bf9-4503-b9a6-2a21345e2d7b",
   "metadata": {},
   "outputs": [],
   "source": [
    "df_test_input = df.head(3).copy()\n",
    "df_test_input"
   ]
  },
  {
   "cell_type": "code",
   "execution_count": null,
   "id": "03e983f9-9cc1-4867-8002-c21ac0e44e3c",
   "metadata": {},
   "outputs": [],
   "source": [
    "test_file_path = \"4_test_input.csv\"\n",
    "df_test_input.to_csv(test_file_path, index=False, encoding=\"utf-8\")"
   ]
  },
  {
   "cell_type": "markdown",
   "id": "415cfb57-0c33-4ee1-97d9-81e995b91efa",
   "metadata": {},
   "source": [
    "#### 2. 테스트 진행"
   ]
  },
  {
   "cell_type": "code",
   "execution_count": null,
   "id": "75f7d824-8b2f-434c-b673-c37075b3c87a",
   "metadata": {},
   "outputs": [],
   "source": [
    "fpath_to_read = \"4_test_input.csv\"\n",
    "text_column_name = \"text\"\n",
    "fpath_to_save = \"4_test_output.csv\"\n",
    "tokenize_and_ngramize(fpath_to_read, text_column_name, fpath_to_save)"
   ]
  },
  {
   "cell_type": "markdown",
   "id": "334ed3dd-6bce-4245-9e8f-2426c2d24498",
   "metadata": {},
   "source": [
    "#### 3. 테스트 결과 확인"
   ]
  },
  {
   "cell_type": "code",
   "execution_count": null,
   "id": "e8ca85df-4335-4c69-a609-7bc0631f9f78",
   "metadata": {},
   "outputs": [],
   "source": [
    "import pandas as pd\n",
    "df_test_output = pd.read_csv(\"4_test_output.csv\", encoding=\"utf-8\")\n",
    "df_test_output.head(3)"
   ]
  },
  {
   "cell_type": "markdown",
   "id": "d57f01cf-62cd-4649-ab20-f384833403b3",
   "metadata": {},
   "source": [
    "### 4-e-3. 실제 data에 적용하기"
   ]
  },
  {
   "cell_type": "code",
   "execution_count": null,
   "id": "3abb3ea7-e4c9-4c97-a595-3c207f8a26c9",
   "metadata": {},
   "outputs": [],
   "source": [
    "fpath_to_read = \"3_news_lowercase.csv\"\n",
    "text_column_name = \"text\"\n",
    "fpath_to_save = \"4_news_ngram.csv\"\n",
    "tokenize_and_ngramize(fpath_to_read, text_column_name, fpath_to_save)"
   ]
  },
  {
   "cell_type": "code",
   "execution_count": null,
   "id": "ba1a734e-ca34-420f-81a5-6c982a528768",
   "metadata": {},
   "outputs": [],
   "source": []
  },
  {
   "cell_type": "code",
   "execution_count": null,
   "id": "5d733a7a-5d48-4c25-9926-c2ffa5ae6faa",
   "metadata": {},
   "outputs": [],
   "source": []
  },
  {
   "cell_type": "code",
   "execution_count": null,
   "id": "15f35106-18ac-40f0-968e-c56413dbbe01",
   "metadata": {},
   "outputs": [],
   "source": []
  },
  {
   "cell_type": "code",
   "execution_count": null,
   "id": "1cc94919-ddc4-476b-9326-cfecf88736f0",
   "metadata": {},
   "outputs": [],
   "source": []
  },
  {
   "cell_type": "code",
   "execution_count": null,
   "id": "c8bbe3bb-0caf-44d1-ac3d-fa17982f5632",
   "metadata": {},
   "outputs": [],
   "source": []
  },
  {
   "cell_type": "code",
   "execution_count": null,
   "id": "496ae452-f97e-439b-8666-664c84f2d192",
   "metadata": {},
   "outputs": [],
   "source": []
  },
  {
   "cell_type": "code",
   "execution_count": null,
   "id": "e2bd23f5-482a-4cae-9f6b-078a92cb1ac0",
   "metadata": {},
   "outputs": [],
   "source": []
  },
  {
   "cell_type": "code",
   "execution_count": null,
   "id": "126ff763-85d0-4d50-89f8-2a45d376b4db",
   "metadata": {},
   "outputs": [],
   "source": []
  }
 ],
 "metadata": {
  "kernelspec": {
   "display_name": "Python 3 (ipykernel)",
   "language": "python",
   "name": "python3"
  },
  "language_info": {
   "codemirror_mode": {
    "name": "ipython",
    "version": 3
   },
   "file_extension": ".py",
   "mimetype": "text/x-python",
   "name": "python",
   "nbconvert_exporter": "python",
   "pygments_lexer": "ipython3",
   "version": "3.8.18"
  }
 },
 "nbformat": 4,
 "nbformat_minor": 5
}
