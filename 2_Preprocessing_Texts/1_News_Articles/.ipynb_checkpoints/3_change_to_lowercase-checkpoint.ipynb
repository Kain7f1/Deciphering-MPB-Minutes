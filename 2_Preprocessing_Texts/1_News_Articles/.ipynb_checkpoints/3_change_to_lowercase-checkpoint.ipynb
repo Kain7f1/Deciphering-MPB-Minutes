{
 "cells": [
  {
   "cell_type": "markdown",
   "id": "308a72b4-8b8e-406b-8aa5-b877e8b8df0b",
   "metadata": {},
   "source": [
    "# 3. 영어 대소문자 통일 : 소문자로"
   ]
  },
  {
   "cell_type": "markdown",
   "id": "aca7b087-91c4-4451-ac12-cb45b0221ce0",
   "metadata": {},
   "source": [
    "## 3-a. 계획\n",
    "- 소문자와 대문자의 차이가 의미  차이를 발생시키는 경우는 거의 없다.\n",
    "- 향후 프로세스에 도움이 되도록 대소문자를 통일시킨다"
   ]
  },
  {
   "cell_type": "markdown",
   "id": "cc8f42b5-0f4e-4ba2-b81d-e364caa091e1",
   "metadata": {
    "jp-MarkdownHeadingCollapsed": true
   },
   "source": [
    "## 3-b. 데이터 불러오기"
   ]
  },
  {
   "cell_type": "code",
   "execution_count": 1,
   "id": "41c4c126-2fb4-4be2-a733-df0898d9d809",
   "metadata": {},
   "outputs": [
    {
     "data": {
      "text/html": [
       "<div>\n",
       "<style scoped>\n",
       "    .dataframe tbody tr th:only-of-type {\n",
       "        vertical-align: middle;\n",
       "    }\n",
       "\n",
       "    .dataframe tbody tr th {\n",
       "        vertical-align: top;\n",
       "    }\n",
       "\n",
       "    .dataframe thead th {\n",
       "        text-align: right;\n",
       "    }\n",
       "</style>\n",
       "<table border=\"1\" class=\"dataframe\">\n",
       "  <thead>\n",
       "    <tr style=\"text-align: right;\">\n",
       "      <th></th>\n",
       "      <th>search_keyword</th>\n",
       "      <th>created_date</th>\n",
       "      <th>created_time</th>\n",
       "      <th>media</th>\n",
       "      <th>title</th>\n",
       "      <th>text</th>\n",
       "      <th>url</th>\n",
       "    </tr>\n",
       "  </thead>\n",
       "  <tbody>\n",
       "    <tr>\n",
       "      <th>0</th>\n",
       "      <td>금리</td>\n",
       "      <td>2008-04-10</td>\n",
       "      <td>00:03:00</td>\n",
       "      <td>강원일보</td>\n",
       "      <td>소상공인·소기업 대상 NH 뉴 스타트론 판매</td>\n",
       "      <td>강원농협(본부장:김명기)은 영세자영업자를 위한 ‘NH 뉴 스타트론’을 10일부터 판...</td>\n",
       "      <td>https://n.news.naver.com/mnews/article/087/000...</td>\n",
       "    </tr>\n",
       "    <tr>\n",
       "      <th>1</th>\n",
       "      <td>금리</td>\n",
       "      <td>2008-04-10</td>\n",
       "      <td>00:18:00</td>\n",
       "      <td>연합인포맥스</td>\n",
       "      <td>美 국채가, 경기 위축 우려 지속 상승</td>\n",
       "      <td>(뉴욕=) 김홍규 특파원 = 미국 국채가격은  9일  뉴욕채권시장에서 경기 위축 우...</td>\n",
       "      <td>https://n.news.naver.com/mnews/article/013/000...</td>\n",
       "    </tr>\n",
       "    <tr>\n",
       "      <th>2</th>\n",
       "      <td>금리</td>\n",
       "      <td>2008-04-10</td>\n",
       "      <td>00:19:28</td>\n",
       "      <td>연합뉴스</td>\n",
       "      <td>&lt;여대야소..MB노믹스 속도낸다&gt;</td>\n",
       "      <td>(서울=) 재경팀= 18대 총선이 여당의 과반 확보로 마무리되면서 이명박 정부의 경...</td>\n",
       "      <td>https://n.news.naver.com/mnews/article/001/000...</td>\n",
       "    </tr>\n",
       "  </tbody>\n",
       "</table>\n",
       "</div>"
      ],
      "text/plain": [
       "  search_keyword created_date created_time   media                     title  \\\n",
       "0             금리   2008-04-10     00:03:00    강원일보  소상공인·소기업 대상 NH 뉴 스타트론 판매   \n",
       "1             금리   2008-04-10     00:18:00  연합인포맥스     美 국채가, 경기 위축 우려 지속 상승   \n",
       "2             금리   2008-04-10     00:19:28    연합뉴스        <여대야소..MB노믹스 속도낸다>   \n",
       "\n",
       "                                                text  \\\n",
       "0  강원농협(본부장:김명기)은 영세자영업자를 위한 ‘NH 뉴 스타트론’을 10일부터 판...   \n",
       "1  (뉴욕=) 김홍규 특파원 = 미국 국채가격은  9일  뉴욕채권시장에서 경기 위축 우...   \n",
       "2  (서울=) 재경팀= 18대 총선이 여당의 과반 확보로 마무리되면서 이명박 정부의 경...   \n",
       "\n",
       "                                                 url  \n",
       "0  https://n.news.naver.com/mnews/article/087/000...  \n",
       "1  https://n.news.naver.com/mnews/article/013/000...  \n",
       "2  https://n.news.naver.com/mnews/article/001/000...  "
      ]
     },
     "execution_count": 1,
     "metadata": {},
     "output_type": "execute_result"
    }
   ],
   "source": [
    "import pandas as pd\n",
    "df = pd.read_csv(\"2_deleted_some_special_chars.csv\", encoding=\"utf-8\")\n",
    "df.head(3)"
   ]
  },
  {
   "cell_type": "code",
   "execution_count": 2,
   "id": "9a3addaa-0f19-4799-9009-9d9661bce051",
   "metadata": {},
   "outputs": [
    {
     "name": "stdout",
     "output_type": "stream",
     "text": [
      "<class 'pandas.core.frame.DataFrame'>\n",
      "RangeIndex: 1601160 entries, 0 to 1601159\n",
      "Data columns (total 7 columns):\n",
      " #   Column          Non-Null Count    Dtype \n",
      "---  ------          --------------    ----- \n",
      " 0   search_keyword  1601160 non-null  object\n",
      " 1   created_date    1601160 non-null  object\n",
      " 2   created_time    1601160 non-null  object\n",
      " 3   media           1601160 non-null  object\n",
      " 4   title           1601160 non-null  object\n",
      " 5   text            1601160 non-null  object\n",
      " 6   url             1601160 non-null  object\n",
      "dtypes: object(7)\n",
      "memory usage: 85.5+ MB\n"
     ]
    }
   ],
   "source": [
    "df.info()"
   ]
  },
  {
   "cell_type": "code",
   "execution_count": 4,
   "id": "ab4c8eee-bc3e-4b11-be09-cc5e9047caa7",
   "metadata": {},
   "outputs": [
    {
     "name": "stdout",
     "output_type": "stream",
     "text": [
      "강원농협(본부장:김명기)은 영세자영업자를 위한 ‘NH 뉴 스타트론’을 10일부터 판매한다.대출 대상은 사업기간이 3개월 이상으로 종업원 수 50인 미만인 소기업  소상공인을 대상으로 하며  부동산업  증기탕 등 일부 업종은 대상에서 제외된다.소상공인은 지역신용보증재단에 보증신청과 심사를 거쳐 특례보증에 의한 보증서를 발급받아야 하며  대출한도는 기업당 최고 1 000만원  대출기간은 5년 이내이고 대출금리는 기준금리  1.0%이다.\n",
      "\n",
      "(뉴욕=) 김홍규 특파원 = 미국 국채가격은  9일  뉴욕채권시장에서 경기 위축 우려에 따른 연방준비제도이사회(FRB)의 금리인하정책 지속 전망으로  상승했다.오전 11시4분(뉴욕시간) 현재 10년만기 국채가격은 전날보다 12/32포인트 오른 99 27/32  수익률은 5bp 낮아진 연 3.51%를 나타냈다.2년만기 국채수익률은 8bp 떨어진 연 1.79%를 보였다.뉴욕 채권전문가들은 중앙은행이 경기 둔화에 대해 상당히 우려하는 것  같다면서 중앙은행이 금리인하정책을 지속할 수밖에 없는 상황이 조성되고 있다고 말했다.이들은 금리인하가 지속된다면 2년만기 국채 위주의 매수세가 지속될 것이며 경기 둔화 우려 역시 10년만기 국채에 대한 매력도를 높이게 될 것이라고 덧붙였다.여기에 스탠더드앤드푸어스(S&P)가 미 3대 모기지 보험업체들의 신용등급을  하향 조정한 것 역시 금융시장에 대한 우려를 부각시켰다고 이들은 전했다.S&P는 주택시장 침체가 내년까지 이어질 가능성이 높아 MGIC와 PMI그룹  레디언그룹 등 모기지 보험업체들의 신용등급을 낮춘다고 밝혔다.\n",
      "\n"
     ]
    }
   ],
   "source": [
    "for i in range(2):\n",
    "    print(df.iloc(0)[i][\"text\"], end=\"\\n\\n\")"
   ]
  },
  {
   "cell_type": "markdown",
   "id": "e3fb852a-67ca-4fe9-9f00-6790ffa5b288",
   "metadata": {},
   "source": [
    "## 3-c. 영어 소문자로 통일하기"
   ]
  },
  {
   "cell_type": "code",
   "execution_count": 5,
   "id": "0b9f49ed-76f6-4b2c-8393-67b7cb389aa7",
   "metadata": {},
   "outputs": [
    {
     "name": "stdout",
     "output_type": "stream",
     "text": [
      "강원농협(본부장:김명기)은 영세자영업자를 위한 ‘nh 뉴 스타트론’을 10일부터 판매한다.대출 대상은 사업기간이 3개월 이상으로 종업원 수 50인 미만인 소기업  소상공인을 대상으로 하며  부동산업  증기탕 등 일부 업종은 대상에서 제외된다.소상공인은 지역신용보증재단에 보증신청과 심사를 거쳐 특례보증에 의한 보증서를 발급받아야 하며  대출한도는 기업당 최고 1 000만원  대출기간은 5년 이내이고 대출금리는 기준금리  1.0%이다.\n",
      "\n",
      "(뉴욕=) 김홍규 특파원 = 미국 국채가격은  9일  뉴욕채권시장에서 경기 위축 우려에 따른 연방준비제도이사회(frb)의 금리인하정책 지속 전망으로  상승했다.오전 11시4분(뉴욕시간) 현재 10년만기 국채가격은 전날보다 12/32포인트 오른 99 27/32  수익률은 5bp 낮아진 연 3.51%를 나타냈다.2년만기 국채수익률은 8bp 떨어진 연 1.79%를 보였다.뉴욕 채권전문가들은 중앙은행이 경기 둔화에 대해 상당히 우려하는 것  같다면서 중앙은행이 금리인하정책을 지속할 수밖에 없는 상황이 조성되고 있다고 말했다.이들은 금리인하가 지속된다면 2년만기 국채 위주의 매수세가 지속될 것이며 경기 둔화 우려 역시 10년만기 국채에 대한 매력도를 높이게 될 것이라고 덧붙였다.여기에 스탠더드앤드푸어스(s&p)가 미 3대 모기지 보험업체들의 신용등급을  하향 조정한 것 역시 금융시장에 대한 우려를 부각시켰다고 이들은 전했다.s&p는 주택시장 침체가 내년까지 이어질 가능성이 높아 mgic와 pmi그룹  레디언그룹 등 모기지 보험업체들의 신용등급을 낮춘다고 밝혔다.\n",
      "\n"
     ]
    }
   ],
   "source": [
    "# 'text' 칼럼의 모든 텍스트를 소문자로 변환\n",
    "df['text'] = df['text'].str.lower()\n",
    "\n",
    "# 결과 출력\n",
    "for i in range(2):\n",
    "    print(df.iloc(0)[i][\"text\"], end=\"\\n\\n\")"
   ]
  },
  {
   "cell_type": "markdown",
   "id": "cdab282f-3790-4f38-b4e5-4652210cca01",
   "metadata": {},
   "source": [
    "## 3-d. 파일로 저장"
   ]
  },
  {
   "cell_type": "code",
   "execution_count": 8,
   "id": "3047c735-772d-4f16-b6b9-a2dc6b987092",
   "metadata": {},
   "outputs": [],
   "source": [
    "file_path = \"3_news_lowercase.csv\"\n",
    "df.to_csv(file_path, index=False, encoding=\"utf-8\")"
   ]
  }
 ],
 "metadata": {
  "kernelspec": {
   "display_name": "Python 3 (ipykernel)",
   "language": "python",
   "name": "python3"
  },
  "language_info": {
   "codemirror_mode": {
    "name": "ipython",
    "version": 3
   },
   "file_extension": ".py",
   "mimetype": "text/x-python",
   "name": "python",
   "nbconvert_exporter": "python",
   "pygments_lexer": "ipython3",
   "version": "3.8.18"
  }
 },
 "nbformat": 4,
 "nbformat_minor": 5
}
