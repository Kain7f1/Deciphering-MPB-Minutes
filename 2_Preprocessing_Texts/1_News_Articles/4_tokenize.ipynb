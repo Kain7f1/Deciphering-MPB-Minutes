{
 "cells": [
  {
   "cell_type": "markdown",
   "id": "c307b184-afad-498c-8c5a-e3d8df764a4d",
   "metadata": {},
   "source": [
    "# 4. 토큰화"
   ]
  },
  {
   "cell_type": "markdown",
   "id": "4250b4de-7bfb-4b39-9d47-afd33a6fb09a",
   "metadata": {},
   "source": [
    "## 4-a. 계획"
   ]
  },
  {
   "cell_type": "code",
   "execution_count": null,
   "id": "14bae752-2738-4f87-a1b9-bf71d24fc45a",
   "metadata": {},
   "outputs": [],
   "source": []
  },
  {
   "cell_type": "markdown",
   "id": "d9768d20-948b-4223-874a-35ae12c5e267",
   "metadata": {},
   "source": [
    "## 4-b. 데이터 불러오기"
   ]
  },
  {
   "cell_type": "code",
   "execution_count": null,
   "id": "ddfa032a-e24f-492e-9c83-41b1b1b67bbc",
   "metadata": {},
   "outputs": [],
   "source": []
  },
  {
   "cell_type": "markdown",
   "id": "4e689b42-105d-424d-bd82-710d2a23e930",
   "metadata": {},
   "source": [
    "## 4-c. 적용"
   ]
  },
  {
   "cell_type": "code",
   "execution_count": null,
   "id": "216df870-5cbb-42c3-ab18-67be7f1f9426",
   "metadata": {},
   "outputs": [],
   "source": []
  },
  {
   "cell_type": "code",
   "execution_count": null,
   "id": "3b466049-b7eb-4534-91bf-5273da02cc15",
   "metadata": {},
   "outputs": [],
   "source": []
  },
  {
   "cell_type": "code",
   "execution_count": null,
   "id": "0eab2539-9719-4280-86e6-78930fd66ee2",
   "metadata": {},
   "outputs": [],
   "source": []
  },
  {
   "cell_type": "code",
   "execution_count": null,
   "id": "affd6913-4dfc-48c5-a74a-bb6aed293944",
   "metadata": {},
   "outputs": [],
   "source": []
  },
  {
   "cell_type": "code",
   "execution_count": null,
   "id": "c98fb22a-3702-40a8-a39a-6a125bab5aa0",
   "metadata": {},
   "outputs": [],
   "source": []
  },
  {
   "cell_type": "code",
   "execution_count": null,
   "id": "c2a9b261-3326-4e81-bb9d-b49190663d83",
   "metadata": {},
   "outputs": [],
   "source": []
  },
  {
   "cell_type": "code",
   "execution_count": null,
   "id": "efb181bc-aa6a-4ab6-ad4a-319782be6312",
   "metadata": {},
   "outputs": [],
   "source": []
  },
  {
   "cell_type": "code",
   "execution_count": null,
   "id": "c0b8849a-48f9-462b-a0f9-26be8369e2fc",
   "metadata": {},
   "outputs": [],
   "source": []
  },
  {
   "cell_type": "code",
   "execution_count": null,
   "id": "f7de65c5-4e82-4a3f-a533-88a79f0e72b1",
   "metadata": {},
   "outputs": [],
   "source": []
  },
  {
   "cell_type": "code",
   "execution_count": null,
   "id": "bc973324-6c52-42b7-83f7-0420f2eda66c",
   "metadata": {},
   "outputs": [],
   "source": []
  },
  {
   "cell_type": "code",
   "execution_count": null,
   "id": "ec89a40f-aca0-4a4e-99be-0b71e4d583e9",
   "metadata": {},
   "outputs": [],
   "source": []
  },
  {
   "cell_type": "code",
   "execution_count": null,
   "id": "b100ea3d-dd87-4c2c-83b6-b1661c8b7c67",
   "metadata": {},
   "outputs": [],
   "source": []
  },
  {
   "cell_type": "code",
   "execution_count": null,
   "id": "a258957e-7d9b-41a3-b54f-0fb021221369",
   "metadata": {},
   "outputs": [],
   "source": []
  }
 ],
 "metadata": {
  "kernelspec": {
   "display_name": "Python 3 (ipykernel)",
   "language": "python",
   "name": "python3"
  },
  "language_info": {
   "codemirror_mode": {
    "name": "ipython",
    "version": 3
   },
   "file_extension": ".py",
   "mimetype": "text/x-python",
   "name": "python",
   "nbconvert_exporter": "python",
   "pygments_lexer": "ipython3",
   "version": "3.8.18"
  }
 },
 "nbformat": 4,
 "nbformat_minor": 5
}
